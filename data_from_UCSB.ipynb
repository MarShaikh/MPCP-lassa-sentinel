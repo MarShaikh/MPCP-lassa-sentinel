{
 "cells": [
  {
   "cell_type": "code",
   "execution_count": 5,
   "id": "d271c109",
   "metadata": {},
   "outputs": [
    {
     "name": "stdout",
     "output_type": "stream",
     "text": [
      "https://data.chc.ucsb.edu/products/CHIRPS-2.0/africa_daily/tifs/p05/1981/chirps-v2.0.1981.01.01.tif.gz\n",
      "https://data.chc.ucsb.edu/products/CHIRPS-2.0/africa_daily/tifs/p05/1982/chirps-v2.0.1982.01.01.tif.gz\n",
      "https://data.chc.ucsb.edu/products/CHIRPS-2.0/africa_daily/tifs/p05/1983/chirps-v2.0.1983.01.01.tif.gz\n",
      "https://data.chc.ucsb.edu/products/CHIRPS-2.0/africa_daily/tifs/p05/1984/chirps-v2.0.1984.01.01.tif.gz\n",
      "https://data.chc.ucsb.edu/products/CHIRPS-2.0/africa_daily/tifs/p05/1985/chirps-v2.0.1985.01.01.tif.gz\n",
      "https://data.chc.ucsb.edu/products/CHIRPS-2.0/africa_daily/tifs/p05/1986/chirps-v2.0.1986.01.01.tif.gz\n",
      "https://data.chc.ucsb.edu/products/CHIRPS-2.0/africa_daily/tifs/p05/1987/chirps-v2.0.1987.01.01.tif.gz\n",
      "https://data.chc.ucsb.edu/products/CHIRPS-2.0/africa_daily/tifs/p05/1988/chirps-v2.0.1988.01.01.tif.gz\n",
      "https://data.chc.ucsb.edu/products/CHIRPS-2.0/africa_daily/tifs/p05/1989/chirps-v2.0.1989.01.01.tif.gz\n",
      "https://data.chc.ucsb.edu/products/CHIRPS-2.0/africa_daily/tifs/p05/1990/chirps-v2.0.1990.01.01.tif.gz\n",
      "https://data.chc.ucsb.edu/products/CHIRPS-2.0/africa_daily/tifs/p05/1991/chirps-v2.0.1991.01.01.tif.gz\n",
      "https://data.chc.ucsb.edu/products/CHIRPS-2.0/africa_daily/tifs/p05/1992/chirps-v2.0.1992.01.01.tif.gz\n",
      "https://data.chc.ucsb.edu/products/CHIRPS-2.0/africa_daily/tifs/p05/1993/chirps-v2.0.1993.01.01.tif.gz\n",
      "https://data.chc.ucsb.edu/products/CHIRPS-2.0/africa_daily/tifs/p05/1994/chirps-v2.0.1994.01.01.tif.gz\n",
      "https://data.chc.ucsb.edu/products/CHIRPS-2.0/africa_daily/tifs/p05/1995/chirps-v2.0.1995.01.01.tif.gz\n",
      "https://data.chc.ucsb.edu/products/CHIRPS-2.0/africa_daily/tifs/p05/1996/chirps-v2.0.1996.01.01.tif.gz\n",
      "https://data.chc.ucsb.edu/products/CHIRPS-2.0/africa_daily/tifs/p05/1997/chirps-v2.0.1997.01.01.tif.gz\n",
      "https://data.chc.ucsb.edu/products/CHIRPS-2.0/africa_daily/tifs/p05/1998/chirps-v2.0.1998.01.01.tif.gz\n",
      "https://data.chc.ucsb.edu/products/CHIRPS-2.0/africa_daily/tifs/p05/1999/chirps-v2.0.1999.01.01.tif.gz\n",
      "https://data.chc.ucsb.edu/products/CHIRPS-2.0/africa_daily/tifs/p05/2000/chirps-v2.0.2000.01.01.tif.gz\n",
      "https://data.chc.ucsb.edu/products/CHIRPS-2.0/africa_daily/tifs/p05/2001/chirps-v2.0.2001.01.01.tif.gz\n",
      "https://data.chc.ucsb.edu/products/CHIRPS-2.0/africa_daily/tifs/p05/2002/chirps-v2.0.2002.01.01.tif.gz\n",
      "https://data.chc.ucsb.edu/products/CHIRPS-2.0/africa_daily/tifs/p05/2003/chirps-v2.0.2003.01.01.tif.gz\n",
      "https://data.chc.ucsb.edu/products/CHIRPS-2.0/africa_daily/tifs/p05/2004/chirps-v2.0.2004.01.01.tif.gz\n",
      "https://data.chc.ucsb.edu/products/CHIRPS-2.0/africa_daily/tifs/p05/2005/chirps-v2.0.2005.01.01.tif.gz\n",
      "https://data.chc.ucsb.edu/products/CHIRPS-2.0/africa_daily/tifs/p05/2006/chirps-v2.0.2006.01.01.tif.gz\n",
      "https://data.chc.ucsb.edu/products/CHIRPS-2.0/africa_daily/tifs/p05/2007/chirps-v2.0.2007.01.01.tif.gz\n",
      "https://data.chc.ucsb.edu/products/CHIRPS-2.0/africa_daily/tifs/p05/2008/chirps-v2.0.2008.01.01.tif.gz\n",
      "https://data.chc.ucsb.edu/products/CHIRPS-2.0/africa_daily/tifs/p05/2009/chirps-v2.0.2009.01.01.tif.gz\n",
      "https://data.chc.ucsb.edu/products/CHIRPS-2.0/africa_daily/tifs/p05/2010/chirps-v2.0.2010.01.01.tif.gz\n",
      "https://data.chc.ucsb.edu/products/CHIRPS-2.0/africa_daily/tifs/p05/2011/chirps-v2.0.2011.01.01.tif.gz\n",
      "https://data.chc.ucsb.edu/products/CHIRPS-2.0/africa_daily/tifs/p05/2012/chirps-v2.0.2012.01.01.tif.gz\n",
      "https://data.chc.ucsb.edu/products/CHIRPS-2.0/africa_daily/tifs/p05/2013/chirps-v2.0.2013.01.01.tif.gz\n",
      "https://data.chc.ucsb.edu/products/CHIRPS-2.0/africa_daily/tifs/p05/2014/chirps-v2.0.2014.01.01.tif.gz\n",
      "https://data.chc.ucsb.edu/products/CHIRPS-2.0/africa_daily/tifs/p05/2015/chirps-v2.0.2015.01.01.tif.gz\n",
      "https://data.chc.ucsb.edu/products/CHIRPS-2.0/africa_daily/tifs/p05/2016/chirps-v2.0.2016.01.01.tif.gz\n",
      "https://data.chc.ucsb.edu/products/CHIRPS-2.0/africa_daily/tifs/p05/2017/chirps-v2.0.2017.01.01.tif.gz\n",
      "https://data.chc.ucsb.edu/products/CHIRPS-2.0/africa_daily/tifs/p05/2018/chirps-v2.0.2018.01.01.tif.gz\n",
      "https://data.chc.ucsb.edu/products/CHIRPS-2.0/africa_daily/tifs/p05/2019/chirps-v2.0.2019.01.01.tif.gz\n",
      "https://data.chc.ucsb.edu/products/CHIRPS-2.0/africa_daily/tifs/p05/2020/chirps-v2.0.2020.01.01.tif.gz\n",
      "https://data.chc.ucsb.edu/products/CHIRPS-2.0/africa_daily/tifs/p05/2021/chirps-v2.0.2021.01.01.tif.gz\n",
      "https://data.chc.ucsb.edu/products/CHIRPS-2.0/africa_daily/tifs/p05/2022/chirps-v2.0.2022.01.01.tif.gz\n",
      "https://data.chc.ucsb.edu/products/CHIRPS-2.0/africa_daily/tifs/p05/2023/chirps-v2.0.2023.01.01.tif.gz\n",
      "https://data.chc.ucsb.edu/products/CHIRPS-2.0/africa_daily/tifs/p05/2024/chirps-v2.0.2024.01.01.tif.gz\n",
      "https://data.chc.ucsb.edu/products/CHIRPS-2.0/africa_daily/tifs/p05/2025/chirps-v2.0.2025.01.01.tif.gz\n"
     ]
    }
   ],
   "source": [
    "from typing import List\n",
    "import requests\n",
    "import re\n",
    "from bs4 import BeautifulSoup\n",
    "\n",
    "\n",
    "def find_tiff_url(url: str, pattern: str) -> List[str]:\n",
    "    \n",
    "    page = requests.get(url)\n",
    "    soup = BeautifulSoup(page.content, \"html.parser\")\n",
    "    table = soup.find(id = \"list\")\n",
    "    links = table.find_all(\"td\", class_=\"link\")\n",
    "\n",
    "    all_url = []\n",
    "    for link in links:\n",
    "        temp_url = link.find_all(href = True)[0]['href']\n",
    "        pattern = re.compile(pattern)\n",
    "        if pattern.match(temp_url):\n",
    "            all_url.append(url + temp_url)\n",
    "\n",
    "    return all_url\n",
    "\n",
    "            \n",
    "\n",
    "url = \"https://data.chc.ucsb.edu/products/CHIRPS-2.0/africa_daily/tifs/p05/\"\n",
    "year_urls = find_tiff_url(url, r\"\\d{4}\\/\")\n",
    "\n",
    "for year in year_urls:\n",
    "    data_urls = find_tiff_url(year, r\"chirps-.*\")\n",
    "    print(data_urls[0])\n",
    "\n",
    "\n"
   ]
  }
 ],
 "metadata": {
  "kernelspec": {
   "display_name": "MPCP_lassasentinel",
   "language": "python",
   "name": "python3"
  },
  "language_info": {
   "codemirror_mode": {
    "name": "ipython",
    "version": 3
   },
   "file_extension": ".py",
   "mimetype": "text/x-python",
   "name": "python",
   "nbconvert_exporter": "python",
   "pygments_lexer": "ipython3",
   "version": "3.12.2"
  }
 },
 "nbformat": 4,
 "nbformat_minor": 5
}
