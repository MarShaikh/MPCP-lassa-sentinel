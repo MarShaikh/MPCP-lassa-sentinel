{
 "cells": [
  {
   "cell_type": "code",
   "execution_count": 3,
   "id": "d271c109",
   "metadata": {},
   "outputs": [],
   "source": [
    "from typing import List\n",
    "import requests\n",
    "import re\n",
    "from bs4 import BeautifulSoup\n",
    "\n",
    "def get_table_from_link(url: str, class_: str) -> List[str]:\n",
    "    \"\"\"\n",
    "    Extract table data from a web page by scraping elements with a specific CSS class.\n",
    "    \n",
    "    Parameters\n",
    "    ----------\n",
    "    url : str\n",
    "        The URL of the web page to scrape.\n",
    "    class_ : str\n",
    "        The CSS class name to search for within table cells.\n",
    "        \n",
    "    Returns\n",
    "    -------\n",
    "    List[str]\n",
    "        A list of BeautifulSoup Tag objects containing the matched table cells.\n",
    "        \n",
    "    Notes\n",
    "    -----\n",
    "    This function assumes the target table has an id=\"list\" attribute.\n",
    "    It searches for <td> elements within that table matching the specified class.\n",
    "    \"\"\"\n",
    "    page = requests.get(url)\n",
    "    soup = BeautifulSoup(page.content, \"html.parser\")\n",
    "    table_ = soup.find(id = \"list\")\n",
    "    list_ = table_.find_all(\"td\", class_=class_)\n",
    "    return list_\n",
    "\n",
    "def find_data_storage(url: str, pattern: str) -> float:\n",
    "    \"\"\"\n",
    "    Calculate total storage requirements from size data scraped from a web page.\n",
    "    \n",
    "    Parameters\n",
    "    ----------\n",
    "    url : str\n",
    "        The URL of the web page containing size information.\n",
    "    pattern : str\n",
    "        Regex pattern parameter (currently unused - function uses hardcoded pattern).\n",
    "        \n",
    "    Returns\n",
    "    -------\n",
    "    float\n",
    "        Total storage size converted to megabytes (MB).\n",
    "        \n",
    "    Notes\n",
    "    -----\n",
    "    The function searches for table cells with class=\"size\", extracts numeric values\n",
    "    from text matching the pattern numbers with decimal points, and\n",
    "    sums them. The conversion factor 0.001024 is applied, suggesting conversion\n",
    "    from KiB to MB using binary conversion (1024 bytes per KiB, then /1000).\n",
    "    \"\"\"\n",
    "    storage_list = get_table_from_link(url, class_=\"size\")\n",
    "    \n",
    "    total_storage = 0\n",
    "    for itr in storage_list:\n",
    "        pattern = re.compile(pattern)\n",
    "        if pattern.match(itr.text):\n",
    "            storage_per_file = float(itr.text.split(\" \")[0])\n",
    "            total_storage += storage_per_file\n",
    "\n",
    "    return total_storage * 0.001024 # converting to MB\n",
    "\n",
    "\n",
    "def find_tiff_url(url: str, pattern: str) -> List[str]:\n",
    "    \"\"\"\n",
    "    Extract and construct URLs matching a specified pattern from a web page.\n",
    "    \n",
    "    Parameters\n",
    "    ----------\n",
    "    url : str\n",
    "        The base URL of the web page to scrape.\n",
    "    pattern : str\n",
    "        Regex pattern to match against href attributes in links.\n",
    "        \n",
    "    Returns\n",
    "    -------\n",
    "    List[str]\n",
    "        A list of complete URLs constructed by combining the base URL\n",
    "        with matching href values.\n",
    "        \n",
    "    Notes\n",
    "    -----\n",
    "    The function searches for table cells with class=\"link\", extracts href\n",
    "    attributes from anchor tags within those cells, and filters them using\n",
    "    the provided regex pattern. Complete URLs are formed by concatenating\n",
    "    the base URL with the matching href values.\n",
    "    \n",
    "    Assumes each link cell contains at least one anchor tag with an href attribute.\n",
    "    \"\"\"\n",
    "    links = get_table_from_link(url, class_ = \"link\")\n",
    "\n",
    "    all_url = []\n",
    "    for link in links:\n",
    "        temp_url = link.find_all(href = True)[0]['href']\n",
    "        pattern = re.compile(pattern)\n",
    "        if pattern.match(temp_url):\n",
    "            all_url.append(url + temp_url)\n",
    "\n",
    "    return all_url\n",
    "\n",
    "url = \"https://data.chc.ucsb.edu/products/CHIRPS-2.0/africa_daily/tifs/p05/\"\n",
    "year_urls = find_tiff_url(url, pattern = r\"\\d{4}\\/\")\n",
    "\n",
    "# get links to all TIFF files\n",
    "# for year in year_urls:\n",
    "#     data_urls = find_tiff_url(year, pattern = r\"chirps-.*\")\n",
    "#     print(data_urls)\n",
    "\n",
    "\n",
    "# # get storage requirements for all tiff files\n",
    "# total_storage = 0\n",
    "# for year in year_urls:\n",
    "#     # the storage output from this function is already in MB\n",
    "#     total_storage += find_data_storage(url = year, pattern = r\"\\d+\\..+\")\n",
    "\n",
    "# total_storage = total_storage * 0.001 # converting to GB\n",
    "# print(f\"Total Storage required by the CHIRPS zip files: {total_storage:.2f} GB\")\n",
    "\n",
    "# print(\"The above storage is taken up by compressed files, for a better estimate, we use the conversion factor of 12.735(obtained from downloading one file)\")\n",
    "# print(f\"Total true storage requirement for the CHIRPS dataset: {(total_storage * 12.735):.2f} GB\")"
   ]
  },
  {
   "cell_type": "code",
   "execution_count": 4,
   "id": "1bab1682",
   "metadata": {},
   "outputs": [],
   "source": [
    "# get links to all TIFF files\n",
    "# data_urls is a list of a list with 45 years worth of data from 1981-2025\n",
    "# where index 0 has all data for 1981 and index 1 has 1982 ... index 44 has 2025\n",
    "# converting to a list of dicts to make it easy to work with downstream\n",
    "data_urls = []\n",
    "for i, year in enumerate(year_urls):\n",
    "    # urls per year\n",
    "    urls = find_tiff_url(year, pattern = r\"chirps-.*\")\n",
    "    data_urls.append({\"year\": str(i + 1981), \"urls\": urls})\n",
    "    "
   ]
  },
  {
   "cell_type": "code",
   "execution_count": 5,
   "id": "60f4f2a9",
   "metadata": {},
   "outputs": [],
   "source": [
    "# unzip file\n",
    "import gzip\n",
    "\n",
    "def unzip_file(url: str) -> bytes:\n",
    "    \"\"\"\n",
    "    Opens an object at a given url, and returns a decompressed byte object\n",
    "\n",
    "    Parameters\n",
    "    -----------\n",
    "    url : str\n",
    "        The base url to the source file\n",
    "    \n",
    "    Returns\n",
    "    -------\n",
    "    bytes\n",
    "        Decompressed byte object\n",
    "    \"\"\"\n",
    "    unzipped_file = requests.get(url) \n",
    "    if unzipped_file.status_code == 200:\n",
    "        decompressed_file = gzip.decompress(unzipped_file.content)\n",
    "    \n",
    "    return decompressed_file"
   ]
  },
  {
   "cell_type": "code",
   "execution_count": 6,
   "id": "36a79e3b",
   "metadata": {},
   "outputs": [],
   "source": [
    "# clipping tiff to Nigeria specific bounding box\n",
    "import rasterio\n",
    "from rasterio.windows import from_bounds\n",
    "from rasterio.enums import Resampling\n",
    "from rasterio.crs import CRS\n",
    "from rasterio.warp import transform_bounds\n",
    "\n",
    "def clip_to_cog(input_tiff: str, clipped_tiff: str, bbox: list, bbox_crs: str):\n",
    "    \"\"\"\n",
    "    Clips a GeoTIFF to a specified bounding box, handling differing CRS,\n",
    "    and saves it as a Cloud-Optimized GeoTIFF (COG).\n",
    "\n",
    "    Args:\n",
    "        input_tiff: Path to the source GeoTIFF file.\n",
    "        clipped_tiff: Path for the output clipped COG file.\n",
    "        bbox: A list representing the bounding box in the format\n",
    "              [min_x, min_y, max_x, max_y].\n",
    "        bbox_crs: The Coordinate Reference System of the provided bounding box,\n",
    "                  defaulting to WGS84 ('EPSG:4326').\n",
    "    \"\"\"\n",
    "    try:\n",
    "        with rasterio.open(input_tiff) as src:\n",
    "        \n",
    "            # Get the CRS of the source raster\n",
    "            src_crs = src.crs\n",
    "            \n",
    "            # Reproject the bounding box if the CRS are different\n",
    "            if CRS.from_string(bbox_crs) != src_crs:\n",
    "                left, bottom, right, top = transform_bounds(\n",
    "                    CRS.from_string(bbox_crs),\n",
    "                    src_crs,\n",
    "                    *bbox\n",
    "                )\n",
    "                reprojected_bbox = [left, bottom, right, top]\n",
    "            else:\n",
    "                reprojected_bbox = bbox\n",
    "        \n",
    "        \n",
    "            window = from_bounds(*reprojected_bbox, src.transform)\n",
    "            data = src.read(window=window)\n",
    "            window_transform = src.window_transform(window)\n",
    "\n",
    "            profile = src.profile.copy()\n",
    "            profile.update({\n",
    "                'height': window.height, \n",
    "                'width': window.width, \n",
    "                'transform': window_transform,\n",
    "                'tiled': True, \n",
    "                'blockxsize': 512, \n",
    "                'blockysize': 512,\n",
    "                'compress': 'deflate'\n",
    "            })\n",
    "\n",
    "            # write COG\n",
    "            with rasterio.open(clipped_tiff, 'w', **profile) as dst:\n",
    "                dst.write(data)\n",
    "\n",
    "                factors =  [2, 4, 8, 16]\n",
    "                dst.build_overviews(factors, Resampling.average)\n",
    "                dst.update_tags(ns='rio_overview', resampling='average')\n",
    "    except Exception as e:\n",
    "        print(f\"An error has occurred: {e}\")"
   ]
  },
  {
   "cell_type": "code",
   "execution_count": 8,
   "id": "6797da3b",
   "metadata": {},
   "outputs": [],
   "source": [
    "def decompress_convert_to_cog(work_item: dict, directory: str):\n",
    "    \"\"\"\n",
    "    Download, decompress, and convert a single CHIRPS rainfall data file to Cloud Optimized GeoTIFF (COG) format.\n",
    "    \n",
    "    This function processes one rainfall data file by downloading it from a URL, decompressing the .gz file,\n",
    "    writing it to disk, and then clipping it to Nigeria's bounding box before converting to COG format.\n",
    "    \n",
    "    Parameters\n",
    "    ----------\n",
    "    work_item : dict\n",
    "        Dictionary containing file processing information with the following keys:\n",
    "        - 'url' : str\n",
    "            Full URL to the .tif.gz file to be downloaded and processed\n",
    "        - 'year' : str\n",
    "            Year string (e.g., '1981') used for filename extraction from URL path\n",
    "    directory : str\n",
    "        Base directory path where the processed files will be saved. Should end with '/'.\n",
    "        The function will save the intermediate .tif file in this directory and the final\n",
    "        COG file in the 'cogs/' subdirectory.\n",
    "    \n",
    "    Returns\n",
    "    -------\n",
    "    None\n",
    "        This function does not return any value. It performs file I/O operations and\n",
    "        creates processed files on disk.\n",
    "    \n",
    "    Note\n",
    "    ----\n",
    "    The Nigeria bounding box coordinates are hardcoded as:\n",
    "    [2.316388, 3.837669, 15.126447, 14.153350] in EPSG:4326 CRS.\n",
    "    \"\"\"\n",
    "    url = work_item['url']\n",
    "    year = work_item['year']\n",
    "    year_dir = str(year) + \"/\"\n",
    "    \n",
    "    # getting file name from url\n",
    "    file_name = url.split(year_dir)[1].replace(\".gz\", \"\")\n",
    "    decompressed_file = unzip_file(work_item['url'])\n",
    "    \n",
    "    # full path of the output tif files\n",
    "    full_path_to_file = directory + file_name\n",
    "    \n",
    "    with open(full_path_to_file, \"wb\") as f:\n",
    "        f.write(decompressed_file)\n",
    "    \n",
    "    clipped_tiff = f\"{directory}cogs/\" + f\"nigeria-cog-{file_name}\" \n",
    "    bbox_aoi = [2.316388, 3.837669, 15.126447, 14.153350]\n",
    "    bbox_crs = \"EPSG:4326\"\n",
    "    clip_to_cog(full_path_to_file, clipped_tiff, bbox_aoi, bbox_crs)    \n",
    "\n",
    "\n",
    "\n",
    "# iterate through all the years, and convert to COGS\n",
    "directory = \"nigeria_tifs/\"\n",
    "\n",
    "# for parallel workflow, convert to a flat list from the nested data_urls list\n",
    "work_items = []\n",
    "for data in data_urls:\n",
    "    for url in data['urls']:\n",
    "        work_items.append({\"year\": data['year'], \"url\": url})\n"
   ]
  },
  {
   "cell_type": "code",
   "execution_count": null,
   "id": "c0a95f2d",
   "metadata": {},
   "outputs": [
    {
     "name": "stderr",
     "output_type": "stream",
     "text": [
      "Processing files:  61%|██████    | 9980/16314 [24:27<116:15:43, 66.08s/it]"
     ]
    },
    {
     "name": "stdout",
     "output_type": "stream",
     "text": [
      "Failed: https://data.chc.ucsb.edu/products/CHIRPS-2.0/africa_daily/tifs/p05/2008/chirps-v2.0.2008.05.02.tif.gz - Error: [SYS] unknown error (_ssl.c:2559)\n",
      "Failed: https://data.chc.ucsb.edu/products/CHIRPS-2.0/africa_daily/tifs/p05/2008/chirps-v2.0.2008.05.11.tif.gz - Error: ('Connection aborted.', RemoteDisconnected('Remote end closed connection without response'))\n",
      "Failed: https://data.chc.ucsb.edu/products/CHIRPS-2.0/africa_daily/tifs/p05/2008/chirps-v2.0.2008.05.12.tif.gz - Error: ('Connection aborted.', RemoteDisconnected('Remote end closed connection without response'))\n",
      "Failed: https://data.chc.ucsb.edu/products/CHIRPS-2.0/africa_daily/tifs/p05/2008/chirps-v2.0.2008.05.10.tif.gz - Error: ('Connection aborted.', RemoteDisconnected('Remote end closed connection without response'))\n"
     ]
    },
    {
     "name": "stderr",
     "output_type": "stream",
     "text": [
      "Processing files:  66%|██████▌   | 10686/16314 [27:14<21:19,  4.40it/s]   "
     ]
    },
    {
     "name": "stdout",
     "output_type": "stream",
     "text": [
      "Failed: https://data.chc.ucsb.edu/products/CHIRPS-2.0/africa_daily/tifs/p05/2008/chirps-v2.0.2008.05.14.tif.gz - Error: HTTPSConnectionPool(host='data.chc.ucsb.edu', port=443): Read timed out. (read timeout=None)\n"
     ]
    },
    {
     "name": "stderr",
     "output_type": "stream",
     "text": [
      "Processing files:  66%|██████▌   | 10706/16314 [27:18<15:40,  5.96it/s]"
     ]
    },
    {
     "name": "stdout",
     "output_type": "stream",
     "text": [
      "Failed: https://data.chc.ucsb.edu/products/CHIRPS-2.0/africa_daily/tifs/p05/2008/chirps-v2.0.2008.05.13.tif.gz - Error: HTTPSConnectionPool(host='data.chc.ucsb.edu', port=443): Read timed out. (read timeout=None)\n",
      "Failed: https://data.chc.ucsb.edu/products/CHIRPS-2.0/africa_daily/tifs/p05/2008/chirps-v2.0.2008.05.15.tif.gz - Error: HTTPSConnectionPool(host='data.chc.ucsb.edu', port=443): Read timed out. (read timeout=None)\n"
     ]
    },
    {
     "name": "stderr",
     "output_type": "stream",
     "text": [
      "Processing files:  87%|████████▋ | 14222/16314 [48:32<39:56,  1.15s/it]   "
     ]
    },
    {
     "name": "stdout",
     "output_type": "stream",
     "text": [
      "Failed: https://data.chc.ucsb.edu/products/CHIRPS-2.0/africa_daily/tifs/p05/2019/chirps-v2.0.2019.08.27.tif.gz - Error: HTTPSConnectionPool(host='data.chc.ucsb.edu', port=443): Read timed out. (read timeout=None)\n"
     ]
    },
    {
     "name": "stderr",
     "output_type": "stream",
     "text": [
      "Processing files:  92%|█████████▏| 14928/16314 [56:22<15:09,  1.52it/s]"
     ]
    },
    {
     "name": "stdout",
     "output_type": "stream",
     "text": [
      "Failed: https://data.chc.ucsb.edu/products/CHIRPS-2.0/africa_daily/tifs/p05/2021/chirps-v2.0.2021.12.01.tif - Error: Not a gzipped file (b'II')\n",
      "Failed: https://data.chc.ucsb.edu/products/CHIRPS-2.0/africa_daily/tifs/p05/2021/chirps-v2.0.2021.12.02.tif - Error: Not a gzipped file (b'II')\n"
     ]
    },
    {
     "name": "stderr",
     "output_type": "stream",
     "text": [
      "Processing files:  92%|█████████▏| 14929/16314 [56:24<21:30,  1.07it/s]"
     ]
    },
    {
     "name": "stdout",
     "output_type": "stream",
     "text": [
      "Failed: https://data.chc.ucsb.edu/products/CHIRPS-2.0/africa_daily/tifs/p05/2021/chirps-v2.0.2021.12.04.tif - Error: Not a gzipped file (b'II')\n"
     ]
    },
    {
     "name": "stderr",
     "output_type": "stream",
     "text": [
      "Processing files:  92%|█████████▏| 14930/16314 [56:24<17:43,  1.30it/s]"
     ]
    },
    {
     "name": "stdout",
     "output_type": "stream",
     "text": [
      "Failed: https://data.chc.ucsb.edu/products/CHIRPS-2.0/africa_daily/tifs/p05/2021/chirps-v2.0.2021.12.03.tif - Error: Not a gzipped file (b'II')\n"
     ]
    },
    {
     "name": "stderr",
     "output_type": "stream",
     "text": [
      "Processing files:  92%|█████████▏| 14931/16314 [56:26<23:20,  1.01s/it]"
     ]
    },
    {
     "name": "stdout",
     "output_type": "stream",
     "text": [
      "Failed: https://data.chc.ucsb.edu/products/CHIRPS-2.0/africa_daily/tifs/p05/2021/chirps-v2.0.2021.12.05.tif - Error: Not a gzipped file (b'II')\n"
     ]
    },
    {
     "name": "stderr",
     "output_type": "stream",
     "text": [
      "Processing files:  92%|█████████▏| 14932/16314 [56:27<19:10,  1.20it/s]"
     ]
    },
    {
     "name": "stdout",
     "output_type": "stream",
     "text": [
      "Failed: https://data.chc.ucsb.edu/products/CHIRPS-2.0/africa_daily/tifs/p05/2021/chirps-v2.0.2021.12.06.tif - Error: Not a gzipped file (b'II')\n"
     ]
    },
    {
     "name": "stderr",
     "output_type": "stream",
     "text": [
      "Processing files:  92%|█████████▏| 14933/16314 [56:28<25:45,  1.12s/it]"
     ]
    },
    {
     "name": "stdout",
     "output_type": "stream",
     "text": [
      "Failed: https://data.chc.ucsb.edu/products/CHIRPS-2.0/africa_daily/tifs/p05/2021/chirps-v2.0.2021.12.07.tif - Error: Not a gzipped file (b'II')\n"
     ]
    },
    {
     "name": "stderr",
     "output_type": "stream",
     "text": [
      "Processing files:  92%|█████████▏| 14934/16314 [56:29<21:02,  1.09it/s]"
     ]
    },
    {
     "name": "stdout",
     "output_type": "stream",
     "text": [
      "Failed: https://data.chc.ucsb.edu/products/CHIRPS-2.0/africa_daily/tifs/p05/2021/chirps-v2.0.2021.12.08.tif - Error: Not a gzipped file (b'II')\n"
     ]
    },
    {
     "name": "stderr",
     "output_type": "stream",
     "text": [
      "Processing files:  92%|█████████▏| 14935/16314 [56:30<25:27,  1.11s/it]"
     ]
    },
    {
     "name": "stdout",
     "output_type": "stream",
     "text": [
      "Failed: https://data.chc.ucsb.edu/products/CHIRPS-2.0/africa_daily/tifs/p05/2021/chirps-v2.0.2021.12.09.tif - Error: Not a gzipped file (b'II')\n"
     ]
    },
    {
     "name": "stderr",
     "output_type": "stream",
     "text": [
      "Processing files:  92%|█████████▏| 14936/16314 [56:31<23:53,  1.04s/it]"
     ]
    },
    {
     "name": "stdout",
     "output_type": "stream",
     "text": [
      "Failed: https://data.chc.ucsb.edu/products/CHIRPS-2.0/africa_daily/tifs/p05/2021/chirps-v2.0.2021.12.10.tif - Error: Not a gzipped file (b'II')\n"
     ]
    },
    {
     "name": "stderr",
     "output_type": "stream",
     "text": [
      "Processing files:  92%|█████████▏| 14937/16314 [56:32<23:45,  1.04s/it]"
     ]
    },
    {
     "name": "stdout",
     "output_type": "stream",
     "text": [
      "Failed: https://data.chc.ucsb.edu/products/CHIRPS-2.0/africa_daily/tifs/p05/2021/chirps-v2.0.2021.12.11.tif - Error: Not a gzipped file (b'II')\n"
     ]
    },
    {
     "name": "stderr",
     "output_type": "stream",
     "text": [
      "Processing files:  92%|█████████▏| 14938/16314 [56:34<30:27,  1.33s/it]"
     ]
    },
    {
     "name": "stdout",
     "output_type": "stream",
     "text": [
      "Failed: https://data.chc.ucsb.edu/products/CHIRPS-2.0/africa_daily/tifs/p05/2021/chirps-v2.0.2021.12.13.tif - Error: Not a gzipped file (b'II')\n"
     ]
    },
    {
     "name": "stderr",
     "output_type": "stream",
     "text": [
      "Processing files:  92%|█████████▏| 14939/16314 [56:36<34:28,  1.50s/it]"
     ]
    },
    {
     "name": "stdout",
     "output_type": "stream",
     "text": [
      "Failed: https://data.chc.ucsb.edu/products/CHIRPS-2.0/africa_daily/tifs/p05/2021/chirps-v2.0.2021.12.14.tif - Error: Not a gzipped file (b'II')\n"
     ]
    },
    {
     "name": "stderr",
     "output_type": "stream",
     "text": [
      "Processing files:  92%|█████████▏| 14940/16314 [56:38<37:16,  1.63s/it]"
     ]
    },
    {
     "name": "stdout",
     "output_type": "stream",
     "text": [
      "Failed: https://data.chc.ucsb.edu/products/CHIRPS-2.0/africa_daily/tifs/p05/2021/chirps-v2.0.2021.12.15.tif - Error: Not a gzipped file (b'II')\n"
     ]
    },
    {
     "name": "stderr",
     "output_type": "stream",
     "text": [
      "Processing files:  92%|█████████▏| 14941/16314 [56:39<28:13,  1.23s/it]"
     ]
    },
    {
     "name": "stdout",
     "output_type": "stream",
     "text": [
      "Failed: https://data.chc.ucsb.edu/products/CHIRPS-2.0/africa_daily/tifs/p05/2021/chirps-v2.0.2021.12.12.tif - Error: Not a gzipped file (b'II')\n"
     ]
    },
    {
     "name": "stderr",
     "output_type": "stream",
     "text": [
      "Processing files:  92%|█████████▏| 14942/16314 [56:40<30:48,  1.35s/it]"
     ]
    },
    {
     "name": "stdout",
     "output_type": "stream",
     "text": [
      "Failed: https://data.chc.ucsb.edu/products/CHIRPS-2.0/africa_daily/tifs/p05/2021/chirps-v2.0.2021.12.16.tif - Error: Not a gzipped file (b'II')\n"
     ]
    },
    {
     "name": "stderr",
     "output_type": "stream",
     "text": [
      "Processing files:  92%|█████████▏| 14943/16314 [56:42<35:02,  1.53s/it]"
     ]
    },
    {
     "name": "stdout",
     "output_type": "stream",
     "text": [
      "Failed: https://data.chc.ucsb.edu/products/CHIRPS-2.0/africa_daily/tifs/p05/2021/chirps-v2.0.2021.12.17.tif - Error: Not a gzipped file (b'II')\n",
      "Failed: https://data.chc.ucsb.edu/products/CHIRPS-2.0/africa_daily/tifs/p05/2021/chirps-v2.0.2021.12.18.tif - Error: Not a gzipped file (b'II')\n"
     ]
    },
    {
     "name": "stderr",
     "output_type": "stream",
     "text": [
      "Processing files:  92%|█████████▏| 14945/16314 [56:44<30:09,  1.32s/it]"
     ]
    },
    {
     "name": "stdout",
     "output_type": "stream",
     "text": [
      "Failed: https://data.chc.ucsb.edu/products/CHIRPS-2.0/africa_daily/tifs/p05/2021/chirps-v2.0.2021.12.20.tif - Error: Not a gzipped file (b'II')\n",
      "Failed: https://data.chc.ucsb.edu/products/CHIRPS-2.0/africa_daily/tifs/p05/2021/chirps-v2.0.2021.12.19.tif - Error: Not a gzipped file (b'II')\n"
     ]
    },
    {
     "name": "stderr",
     "output_type": "stream",
     "text": [
      "Processing files:  92%|█████████▏| 14947/16314 [56:46<27:10,  1.19s/it]"
     ]
    },
    {
     "name": "stdout",
     "output_type": "stream",
     "text": [
      "Failed: https://data.chc.ucsb.edu/products/CHIRPS-2.0/africa_daily/tifs/p05/2021/chirps-v2.0.2021.12.21.tif - Error: Not a gzipped file (b'II')\n"
     ]
    },
    {
     "name": "stderr",
     "output_type": "stream",
     "text": [
      "Processing files:  92%|█████████▏| 14948/16314 [56:47<24:08,  1.06s/it]"
     ]
    },
    {
     "name": "stdout",
     "output_type": "stream",
     "text": [
      "Failed: https://data.chc.ucsb.edu/products/CHIRPS-2.0/africa_daily/tifs/p05/2021/chirps-v2.0.2021.12.22.tif - Error: Not a gzipped file (b'II')\n"
     ]
    },
    {
     "name": "stderr",
     "output_type": "stream",
     "text": [
      "Processing files:  92%|█████████▏| 14949/16314 [56:48<26:16,  1.15s/it]"
     ]
    },
    {
     "name": "stdout",
     "output_type": "stream",
     "text": [
      "Failed: https://data.chc.ucsb.edu/products/CHIRPS-2.0/africa_daily/tifs/p05/2021/chirps-v2.0.2021.12.23.tif - Error: Not a gzipped file (b'II')\n"
     ]
    },
    {
     "name": "stderr",
     "output_type": "stream",
     "text": [
      "Processing files:  92%|█████████▏| 14950/16314 [56:50<30:55,  1.36s/it]"
     ]
    },
    {
     "name": "stdout",
     "output_type": "stream",
     "text": [
      "Failed: https://data.chc.ucsb.edu/products/CHIRPS-2.0/africa_daily/tifs/p05/2021/chirps-v2.0.2021.12.25.tif - Error: Not a gzipped file (b'II')\n"
     ]
    },
    {
     "name": "stderr",
     "output_type": "stream",
     "text": [
      "Processing files:  92%|█████████▏| 14951/16314 [56:51<25:58,  1.14s/it]"
     ]
    },
    {
     "name": "stdout",
     "output_type": "stream",
     "text": [
      "Failed: https://data.chc.ucsb.edu/products/CHIRPS-2.0/africa_daily/tifs/p05/2021/chirps-v2.0.2021.12.24.tif - Error: Not a gzipped file (b'II')\n"
     ]
    },
    {
     "name": "stderr",
     "output_type": "stream",
     "text": [
      "Processing files:  92%|█████████▏| 14952/16314 [56:52<27:19,  1.20s/it]"
     ]
    },
    {
     "name": "stdout",
     "output_type": "stream",
     "text": [
      "Failed: https://data.chc.ucsb.edu/products/CHIRPS-2.0/africa_daily/tifs/p05/2021/chirps-v2.0.2021.12.26.tif - Error: Not a gzipped file (b'II')\n"
     ]
    },
    {
     "name": "stderr",
     "output_type": "stream",
     "text": [
      "Processing files:  92%|█████████▏| 14953/16314 [56:53<28:02,  1.24s/it]"
     ]
    },
    {
     "name": "stdout",
     "output_type": "stream",
     "text": [
      "Failed: https://data.chc.ucsb.edu/products/CHIRPS-2.0/africa_daily/tifs/p05/2021/chirps-v2.0.2021.12.27.tif - Error: Not a gzipped file (b'II')\n"
     ]
    },
    {
     "name": "stderr",
     "output_type": "stream",
     "text": [
      "Processing files:  92%|█████████▏| 14954/16314 [56:54<23:52,  1.05s/it]"
     ]
    },
    {
     "name": "stdout",
     "output_type": "stream",
     "text": [
      "Failed: https://data.chc.ucsb.edu/products/CHIRPS-2.0/africa_daily/tifs/p05/2021/chirps-v2.0.2021.12.28.tif - Error: Not a gzipped file (b'II')\n"
     ]
    },
    {
     "name": "stderr",
     "output_type": "stream",
     "text": [
      "Processing files:  92%|█████████▏| 14955/16314 [56:56<26:40,  1.18s/it]"
     ]
    },
    {
     "name": "stdout",
     "output_type": "stream",
     "text": [
      "Failed: https://data.chc.ucsb.edu/products/CHIRPS-2.0/africa_daily/tifs/p05/2021/chirps-v2.0.2021.12.29.tif - Error: Not a gzipped file (b'II')\n"
     ]
    },
    {
     "name": "stderr",
     "output_type": "stream",
     "text": [
      "Processing files:  92%|█████████▏| 14956/16314 [56:57<31:33,  1.39s/it]"
     ]
    },
    {
     "name": "stdout",
     "output_type": "stream",
     "text": [
      "Failed: https://data.chc.ucsb.edu/products/CHIRPS-2.0/africa_daily/tifs/p05/2021/chirps-v2.0.2021.12.31.tif - Error: Not a gzipped file (b'II')\n"
     ]
    },
    {
     "name": "stderr",
     "output_type": "stream",
     "text": [
      "Processing files:  92%|█████████▏| 14957/16314 [56:59<31:19,  1.39s/it]"
     ]
    },
    {
     "name": "stdout",
     "output_type": "stream",
     "text": [
      "Failed: https://data.chc.ucsb.edu/products/CHIRPS-2.0/africa_daily/tifs/p05/2021/chirps-v2.0.2021.12.30.tif - Error: Not a gzipped file (b'II')\n"
     ]
    },
    {
     "name": "stderr",
     "output_type": "stream",
     "text": [
      "Processing files:  93%|█████████▎| 15141/16314 [2:52:26<13:21,  1.46it/s]\n"
     ]
    }
   ],
   "source": [
    "from concurrent.futures import ThreadPoolExecutor, as_completed\n",
    "import tqdm\n",
    "\n",
    "failed_files = []\n",
    "\n",
    "with ThreadPoolExecutor(max_workers=20) as executor:\n",
    "    # Create futures and map them to work items\n",
    "    future_to_item = {}\n",
    "    for item in work_items:\n",
    "        future = executor.submit(decompress_convert_to_cog, item, directory)\n",
    "        future_to_item[future] = item\n",
    "    \n",
    "    for future in tqdm.tqdm(as_completed(future_to_item.keys()), total=len(future_to_item),  desc=\"Processing files\"):\n",
    "        work_item = future_to_item[future]\n",
    "        try:\n",
    "            future.result() \n",
    "        except Exception as e:\n",
    "            failed_files.append(work_item)\n",
    "            print(f\"Failed: {work_item['url']} - Error: {str(e)}\")\n",
    "\n",
    "print(f\"\\nCompleted! {len(failed_files)} files failed out of {len(work_items)} total\")"
   ]
  }
 ],
 "metadata": {
  "kernelspec": {
   "display_name": "MPCP_lassasentinel",
   "language": "python",
   "name": "python3"
  },
  "language_info": {
   "codemirror_mode": {
    "name": "ipython",
    "version": 3
   },
   "file_extension": ".py",
   "mimetype": "text/x-python",
   "name": "python",
   "nbconvert_exporter": "python",
   "pygments_lexer": "ipython3",
   "version": "3.12.2"
  }
 },
 "nbformat": 4,
 "nbformat_minor": 5
}
